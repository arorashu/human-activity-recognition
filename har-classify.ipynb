{
 "cells": [
  {
   "cell_type": "code",
   "execution_count": 1,
   "metadata": {},
   "outputs": [
    {
     "name": "stderr",
     "output_type": "stream",
     "text": [
      "Using TensorFlow backend.\n"
     ]
    }
   ],
   "source": [
    "from c3dReadClass import C3DData \n",
    "from walkingSubjects import subjectToTrialMap as walkingSubjectsMap\n",
    "from jumpingSubjects import subjectToTrialMap as jumpingSubjectsMap\n",
    "from jumpingSubjects import runningSubjectToTrialMap as runningSubjectsMap\n",
    "from jumpingSubjects import otherSubjectToTrialMap\n",
    "\n",
    "import keras\n",
    "from keras.models import Sequential\n",
    "from keras.layers import Dense\n",
    "from keras.layers import Flatten\n",
    "from keras.layers import Dropout\n",
    "from keras.layers import LSTM\n",
    "import numpy as np\n",
    "from numpy import mean\n",
    "from numpy import std"
   ]
  },
  {
   "cell_type": "code",
   "execution_count": 2,
   "metadata": {},
   "outputs": [],
   "source": [
    "ALL_C3D_DIR = \"./data/allc3d/subjects/\"\n",
    "\n",
    "# this is how the file paths are\n",
    "def getPaddedNumberToString(subjectOrTrialNumber):\n",
    "    dirName = str(subjectOrTrialNumber)\n",
    "    if len(dirName) < 2:\n",
    "        dirName = '0' + dirName\n",
    "    return dirName\n",
    "\n",
    "def readAllC3dFiles(subjectToTrialMap):\n",
    "    \n",
    "    ## to record errors\n",
    "    fileNotFound = []\n",
    "    \n",
    "    subjectsDataArray = []\n",
    "    for subjectNumber in subjectToTrialMap.keys():\n",
    "        dirPath = ALL_C3D_DIR + getPaddedNumberToString(subjectNumber) + \"/\"\n",
    "        for trialNumber in subjectToTrialMap[subjectNumber]:\n",
    "            filePath = dirPath + getPaddedNumberToString(subjectNumber) + \"_\" + getPaddedNumberToString(trialNumber) + \".c3d\"\n",
    "            # print(filePath)\n",
    "            try:\n",
    "                c3dBinaryFile = C3DData(None, filePath)\n",
    "                subjectsDataArray.append(c3dBinaryFile)\n",
    "            except:\n",
    "                fileNotFound.append(\"file not found, subjectNum: \" + str(subjectNumber) + \" ,trial: \" + str(trialNumber) + \" filePath: \" + filePath )\n",
    "    \n",
    "    with open(\"errorFile.log\", 'a') as f:\n",
    "        for errorLine in fileNotFound:\n",
    "            f.write(errorLine + '\\n')\n",
    "\n",
    "    return subjectsDataArray\n"
   ]
  },
  {
   "cell_type": "code",
   "execution_count": 3,
   "metadata": {},
   "outputs": [],
   "source": [
    "def summarize_results(scores):\n",
    "\tprint(scores)\n",
    "\tm, s = mean(scores), std(scores)\n",
    "\tprint('Accuracy: %.3f%% (+/-%.3f)' % (m, s))\n",
    "\n",
    "\n",
    "# fit and evaluate a model\n",
    "def evaluate_model(trainX, trainy, testX, testy):\n",
    "\tverbose, epochs, batch_size = 0, 15, 64\n",
    "\tn_timesteps, n_features, n_outputs = trainX.shape[1], trainX.shape[2], trainy.shape[1]\n",
    "\tmodel = Sequential()\n",
    "\tmodel.add(LSTM(100, input_shape=(n_timesteps,n_features)))\n",
    "\tmodel.add(Dropout(0.5))\n",
    "\tmodel.add(Dense(100, activation='relu'))\n",
    "\tmodel.add(Dense(n_outputs, activation='softmax'))\n",
    "\tmodel.compile(loss='categorical_crossentropy', optimizer='adam', metrics=['accuracy'])\n",
    "\t# fit network\n",
    "\tmodel.fit(trainX, trainy, epochs=epochs, batch_size=batch_size, verbose=verbose)\n",
    "\t# evaluate model\n",
    "\t_, accuracy = model.evaluate(testX, testy, batch_size=batch_size, verbose=0)\n",
    "\treturn accuracy\n",
    "\n",
    "\n",
    "# run an experiment\n",
    "def run_experiment(trainX, trainY, testX, testY, repeats=10):\n",
    "\t# load data\n",
    "\t# trainX, trainy, testX, testy = load_dataset()\n",
    "\t# repeat experiment\n",
    "\tscores = list()\n",
    "\tfor r in range(repeats):\n",
    "\t\tscore = evaluate_model(trainX, trainY, testX, testY)\n",
    "\t\tscore = score * 100.0\n",
    "\t\tprint('>#%d: %.3f' % (r+1, score))\n",
    "\t\tscores.append(score)\n",
    "\t# summarize results\n",
    "\tsummarize_results(scores)"
   ]
  },
  {
   "cell_type": "code",
   "execution_count": 4,
   "metadata": {},
   "outputs": [
    {
     "name": "stdout",
     "output_type": "stream",
     "text": [
      "\n",
      "\n",
      "walking: 78\n",
      "jumping: 19\n",
      "running: 37\n",
      "other activities: 29\n"
     ]
    }
   ],
   "source": [
    "print(\"\\n\")\n",
    "with open(\"errorFile.log\", 'w') as f:\n",
    "    f.write(\"New logs\" + '\\n')\n",
    "\n",
    "walkingSubjectsDataArray = readAllC3dFiles(walkingSubjectsMap)\n",
    "print(\"walking: \" + str(len(walkingSubjectsDataArray)) )\n",
    "jumpingSubjectsDataArray = readAllC3dFiles(jumpingSubjectsMap)\n",
    "print(\"jumping: \" + str(len(jumpingSubjectsDataArray)) )\n",
    "runningSubjectsDataArray = readAllC3dFiles(runningSubjectsMap)\n",
    "print(\"running: \" + str(len(runningSubjectsDataArray)) )\n",
    "otherSubjectsDataArray = readAllC3dFiles(otherSubjectToTrialMap)\n",
    "print(\"other activities: \" + str(len(otherSubjectsDataArray)) )\n",
    "allSubjectsDataArray = walkingSubjectsDataArray + jumpingSubjectsDataArray + runningSubjectsDataArray + otherSubjectsDataArray\n",
    "# allSubjectsDataArray = walkingSubjectsDataArray + jumpingSubjectsDataArray\n",
    "markersPerSubject = {}\n",
    "allTrialsMarkerFrames = []"
   ]
  },
  {
   "cell_type": "code",
   "execution_count": 11,
   "metadata": {},
   "outputs": [
    {
     "data": {
      "text/plain": [
       "dict"
      ]
     },
     "execution_count": 11,
     "metadata": {},
     "output_type": "execute_result"
    }
   ],
   "source": [
    "type(allSubjectsDataArray)\n",
    "type(allSubjectsDataArray[0].Data)\n"
   ]
  },
  {
   "cell_type": "code",
   "execution_count": 12,
   "metadata": {},
   "outputs": [
    {
     "name": "stdout",
     "output_type": "stream",
     "text": [
      "no of trials: 163\n"
     ]
    }
   ],
   "source": [
    "totalTrialsLoaded = len(allSubjectsDataArray)\n",
    "print(\"no of trials: \" + str(totalTrialsLoaded) )\n",
    "\n",
    "\n",
    "markerCount = {}\n",
    "commonMarkersArray = []\n",
    "commonMarkersMap = {}\n",
    "minimumFrameCount = 9999"
   ]
  },
  {
   "cell_type": "code",
   "execution_count": 13,
   "metadata": {},
   "outputs": [
    {
     "name": "stdout",
     "output_type": "stream",
     "text": [
      "common markers count: 41\n",
      "['C7', 'CLAV', 'LANK', 'LBHD', 'LBWT', 'LELB', 'LFHD', 'LFIN', 'LFRM', 'LFWT', 'LHEE', 'LKNE', 'LMT5', 'LSHN', 'LSHO', 'LTHI', 'LTOE', 'LUPA', 'LWRA', 'LWRB', 'RANK', 'RBAC', 'RBHD', 'RBWT', 'RELB', 'RFHD', 'RFIN', 'RFRM', 'RFWT', 'RHEE', 'RKNE', 'RMT5', 'RSHN', 'RSHO', 'RTHI', 'RTOE', 'RUPA', 'RWRA', 'RWRB', 'STRN', 'T10']\n",
      "minimum frames count: 127\n"
     ]
    }
   ],
   "source": [
    "for trial in allSubjectsDataArray:\n",
    "    thisSubjectMarkerData = trial.Data['Markers']\n",
    "    markersThisTrial = thisSubjectMarkerData.keys()\n",
    "    thisSubjectMarkerFrames = {}\n",
    "    for markerKey in markersThisTrial:\n",
    "        # print(\"marker is: \" + markerKey + \" and type is: \" + str(type(markerKey)))\n",
    "        thisTrialFrameCount = thisSubjectMarkerData[markerKey].shape[1]\n",
    "        if(thisTrialFrameCount < minimumFrameCount):\n",
    "            minimumFrameCount = thisTrialFrameCount\n",
    "        try:\n",
    "            strippedMarkerKey = markerKey.split(':')[1]\n",
    "            thisSubjectMarkerFrames[strippedMarkerKey] = thisSubjectMarkerData[markerKey]\n",
    "            # print(\"shape: \" + str(thisSubjectMarkerData[markerKey].shape) )\n",
    "\n",
    "            if(markerCount.get(strippedMarkerKey)==None):\n",
    "                markerCount[strippedMarkerKey] = 1\n",
    "            else:\n",
    "                markerCount[strippedMarkerKey] += 1\n",
    "                if(markerCount[strippedMarkerKey] == totalTrialsLoaded):\n",
    "                    commonMarkersArray.append(strippedMarkerKey)\n",
    "                    commonMarkersMap[strippedMarkerKey] = True\n",
    "\n",
    "        except:\n",
    "            # print(\"cannot split: \" + markerKey )\n",
    "            strippedMarkerKey = markerKey\n",
    "#     if(np.isnan(thisSubjectMarkerFrames).any()):\n",
    "#         print(\"there is nan\")\n",
    "#     print(\"type: \" + str(type(thisSubjectMarkerFrames)))\n",
    "    allTrialsMarkerFrames.append(thisSubjectMarkerFrames)\n",
    "\n",
    "\n",
    "print(\"common markers count: \" + str(len(commonMarkersArray)) )\n",
    "print(commonMarkersArray)\n",
    "print(\"minimum frames count: \" + str(minimumFrameCount) )"
   ]
  },
  {
   "cell_type": "code",
   "execution_count": 14,
   "metadata": {},
   "outputs": [
    {
     "name": "stdout",
     "output_type": "stream",
     "text": [
      "all trial data (163, 127, 123)\n"
     ]
    }
   ],
   "source": [
    "allTrialData = list()\n",
    "\n",
    "# TODO: switch back to 128 frames, some example has only 127 frames, or just use the minimum no of frames encountered so far\n",
    "# [samples, 128, 123]\n",
    "# iterate the array of frames\n",
    "\n",
    "# count = 0\n",
    "\n",
    "for trialMap in allTrialsMarkerFrames:\n",
    "    # iterate the map of markerKey -> frames\n",
    "    allMarkerFrames = np.zeros((127, 0))\n",
    "    for markerKey in trialMap:\n",
    "        if(commonMarkersMap.get(markerKey)!=None ):\n",
    "#             print(trialMap[markerKey].shape)\n",
    "            perMarkerFrames = trialMap[markerKey].transpose()[0:127, 0:3]\n",
    "            # print(\"shape: \" + str(perMarkerFrames.shape) )\n",
    "            allMarkerFrames = np.concatenate((allMarkerFrames, perMarkerFrames), 1)\n",
    "#         else:\n",
    "#             print(\"marker key not found: or is nan \" )\n",
    "#             count += 1\n",
    "#     print(allMarkerFrames.shape)\n",
    "    allTrialData.append(allMarkerFrames)\n",
    "# print('count is: ' + str(count))\n",
    "allTrialData = np.asarray(allTrialData)\n",
    "print(\"all trial data \" + str(allTrialData.shape))"
   ]
  },
  {
   "cell_type": "markdown",
   "metadata": {},
   "source": [
    "### remove all nans\n",
    "set them to zero\n",
    "\n",
    "TODO: find a better way of doing this"
   ]
  },
  {
   "cell_type": "code",
   "execution_count": 46,
   "metadata": {},
   "outputs": [],
   "source": [
    "import math\n",
    "\n",
    "allTrialData.shape\n",
    "\n",
    "for i in range(allTrialData.shape[0]):\n",
    "    for j in range(allTrialData.shape[1]):\n",
    "        for k in range(allTrialData.shape[2]):\n",
    "            if(math.isnan(allTrialData[i][j][k]) ):\n",
    "                allTrialData[i][j][k] = 0\n"
   ]
  },
  {
   "cell_type": "code",
   "execution_count": 48,
   "metadata": {},
   "outputs": [
    {
     "data": {
      "text/plain": [
       "False"
      ]
     },
     "execution_count": 48,
     "metadata": {},
     "output_type": "execute_result"
    }
   ],
   "source": [
    "np.argwhere( np.isnan(allTrialData))\n",
    "np.isnan(allTrialData).any()"
   ]
  },
  {
   "cell_type": "code",
   "execution_count": 49,
   "metadata": {},
   "outputs": [
    {
     "name": "stdout",
     "output_type": "stream",
     "text": [
      "output shape: 163\n"
     ]
    }
   ],
   "source": [
    "walkingSubjectsCount = len(walkingSubjectsDataArray)\n",
    "otherSubjectsCount = totalTrialsLoaded - walkingSubjectsCount\n",
    "allOutputLabels = [0] * walkingSubjectsCount + [1] * otherSubjectsCount\n",
    "print(\"output shape: \" + str(len(allOutputLabels)) )\n",
    "# 0 - walking, 1 - not walking"
   ]
  },
  {
   "cell_type": "code",
   "execution_count": 50,
   "metadata": {},
   "outputs": [],
   "source": [
    "def performTrainTestSplit(allTrialData, allOutputLabels, walkingSubjectsCount, otherSubjectsCount):\n",
    "    ## do train test split\n",
    "\n",
    "    print(\"walking sub: \" + str(walkingSubjectsCount))\n",
    "    print(\"other sub: \" + str(otherSubjectsCount))\n",
    "\n",
    "    trainWalkCount = int(0.7*walkingSubjectsCount)\n",
    "    trainOtherCount = int(0.7*otherSubjectsCount)\n",
    "\n",
    "\n",
    "    print(\"walking train: \" + str(trainWalkCount))\n",
    "    print(\"other train: \" + str(trainOtherCount))\n",
    "\n",
    "    trainX = np.concatenate( (allTrialData[0:trainWalkCount], allTrialData[walkingSubjectsCount: walkingSubjectsCount+trainOtherCount]), axis=0 )\n",
    "    testX = np.concatenate( (allTrialData[trainWalkCount: (walkingSubjectsCount-trainWalkCount)], allTrialData[walkingSubjectsCount: walkingSubjectsCount+(otherSubjectsCount-trainOtherCount) ]), axis=0 )\n",
    "\n",
    "    trainY = np.concatenate( (allOutputLabels[0:trainWalkCount], allOutputLabels[walkingSubjectsCount: walkingSubjectsCount+trainOtherCount]), axis=0)\n",
    "    testY = np.concatenate( (allOutputLabels[trainWalkCount: (walkingSubjectsCount-trainWalkCount)], allOutputLabels[walkingSubjectsCount: walkingSubjectsCount+(otherSubjectsCount-trainOtherCount)]), axis=0 )\n",
    "\n",
    "    return trainX, trainY, testX, testY"
   ]
  },
  {
   "cell_type": "code",
   "execution_count": 83,
   "metadata": {},
   "outputs": [],
   "source": [
    "from sklearn.model_selection import train_test_split\n",
    "trainX, testX, trainY, testY = train_test_split(allTrialData, allOutputLabels, test_size=0.25, random_state=42)"
   ]
  },
  {
   "cell_type": "code",
   "execution_count": 79,
   "metadata": {},
   "outputs": [
    {
     "name": "stdout",
     "output_type": "stream",
     "text": [
      "walking sub: 78\n",
      "other sub: 85\n",
      "walking train: 54\n",
      "other train: 59\n"
     ]
    }
   ],
   "source": [
    "trainX, trainY, testX, testY = performTrainTestSplit(allTrialData, allOutputLabels, walkingSubjectsCount, otherSubjectsCount)"
   ]
  },
  {
   "cell_type": "code",
   "execution_count": 84,
   "metadata": {},
   "outputs": [
    {
     "ename": "AttributeError",
     "evalue": "'list' object has no attribute 'shape'",
     "output_type": "error",
     "traceback": [
      "\u001b[0;31m---------------------------------------------------------------------------\u001b[0m",
      "\u001b[0;31mAttributeError\u001b[0m                            Traceback (most recent call last)",
      "\u001b[0;32m<ipython-input-84-6ef4a6ed96fd>\u001b[0m in \u001b[0;36m<module>\u001b[0;34m\u001b[0m\n\u001b[1;32m      1\u001b[0m \u001b[0mtestX\u001b[0m\u001b[0;34m.\u001b[0m\u001b[0mshape\u001b[0m\u001b[0;34m\u001b[0m\u001b[0;34m\u001b[0m\u001b[0m\n\u001b[1;32m      2\u001b[0m \u001b[0mtrainX\u001b[0m\u001b[0;34m.\u001b[0m\u001b[0mshape\u001b[0m\u001b[0;34m\u001b[0m\u001b[0;34m\u001b[0m\u001b[0m\n\u001b[0;32m----> 3\u001b[0;31m \u001b[0mtrainY\u001b[0m\u001b[0;34m.\u001b[0m\u001b[0mshape\u001b[0m\u001b[0;34m\u001b[0m\u001b[0;34m\u001b[0m\u001b[0m\n\u001b[0m\u001b[1;32m      4\u001b[0m \u001b[0mtestY\u001b[0m\u001b[0;34m.\u001b[0m\u001b[0mshape\u001b[0m\u001b[0;34m\u001b[0m\u001b[0;34m\u001b[0m\u001b[0m\n\u001b[1;32m      5\u001b[0m \u001b[0mtestY\u001b[0m\u001b[0;34m\u001b[0m\u001b[0;34m\u001b[0m\u001b[0m\n",
      "\u001b[0;31mAttributeError\u001b[0m: 'list' object has no attribute 'shape'"
     ]
    }
   ],
   "source": [
    "testX.shape\n",
    "trainX.shape\n",
    "trainY.shape\n",
    "testY.shape\n",
    "testY\n",
    "# allOutputLabels"
   ]
  },
  {
   "cell_type": "code",
   "execution_count": 53,
   "metadata": {},
   "outputs": [
    {
     "data": {
      "text/plain": [
       "array([[1., 0.],\n",
       "       [1., 0.],\n",
       "       [1., 0.],\n",
       "       [1., 0.],\n",
       "       [1., 0.],\n",
       "       [1., 0.],\n",
       "       [1., 0.],\n",
       "       [1., 0.],\n",
       "       [1., 0.],\n",
       "       [1., 0.],\n",
       "       [1., 0.],\n",
       "       [1., 0.],\n",
       "       [1., 0.],\n",
       "       [1., 0.],\n",
       "       [1., 0.],\n",
       "       [1., 0.],\n",
       "       [1., 0.],\n",
       "       [1., 0.],\n",
       "       [1., 0.],\n",
       "       [1., 0.],\n",
       "       [1., 0.],\n",
       "       [1., 0.],\n",
       "       [1., 0.],\n",
       "       [1., 0.],\n",
       "       [1., 0.],\n",
       "       [1., 0.],\n",
       "       [1., 0.],\n",
       "       [1., 0.],\n",
       "       [1., 0.],\n",
       "       [1., 0.],\n",
       "       [1., 0.],\n",
       "       [1., 0.],\n",
       "       [1., 0.],\n",
       "       [1., 0.],\n",
       "       [1., 0.],\n",
       "       [1., 0.],\n",
       "       [1., 0.],\n",
       "       [1., 0.],\n",
       "       [1., 0.],\n",
       "       [1., 0.],\n",
       "       [1., 0.],\n",
       "       [1., 0.],\n",
       "       [1., 0.],\n",
       "       [1., 0.],\n",
       "       [1., 0.],\n",
       "       [1., 0.],\n",
       "       [1., 0.],\n",
       "       [1., 0.],\n",
       "       [1., 0.],\n",
       "       [1., 0.],\n",
       "       [1., 0.],\n",
       "       [1., 0.],\n",
       "       [1., 0.],\n",
       "       [1., 0.],\n",
       "       [0., 1.],\n",
       "       [0., 1.],\n",
       "       [0., 1.],\n",
       "       [0., 1.],\n",
       "       [0., 1.],\n",
       "       [0., 1.],\n",
       "       [0., 1.],\n",
       "       [0., 1.],\n",
       "       [0., 1.],\n",
       "       [0., 1.],\n",
       "       [0., 1.],\n",
       "       [0., 1.],\n",
       "       [0., 1.],\n",
       "       [0., 1.],\n",
       "       [0., 1.],\n",
       "       [0., 1.],\n",
       "       [0., 1.],\n",
       "       [0., 1.],\n",
       "       [0., 1.],\n",
       "       [0., 1.],\n",
       "       [0., 1.],\n",
       "       [0., 1.],\n",
       "       [0., 1.],\n",
       "       [0., 1.],\n",
       "       [0., 1.],\n",
       "       [0., 1.],\n",
       "       [0., 1.],\n",
       "       [0., 1.],\n",
       "       [0., 1.],\n",
       "       [0., 1.],\n",
       "       [0., 1.],\n",
       "       [0., 1.],\n",
       "       [0., 1.],\n",
       "       [0., 1.],\n",
       "       [0., 1.],\n",
       "       [0., 1.],\n",
       "       [0., 1.],\n",
       "       [0., 1.],\n",
       "       [0., 1.],\n",
       "       [0., 1.],\n",
       "       [0., 1.],\n",
       "       [0., 1.],\n",
       "       [0., 1.],\n",
       "       [0., 1.],\n",
       "       [0., 1.],\n",
       "       [0., 1.],\n",
       "       [0., 1.],\n",
       "       [0., 1.],\n",
       "       [0., 1.],\n",
       "       [0., 1.],\n",
       "       [0., 1.],\n",
       "       [0., 1.],\n",
       "       [0., 1.],\n",
       "       [0., 1.],\n",
       "       [0., 1.],\n",
       "       [0., 1.],\n",
       "       [0., 1.],\n",
       "       [0., 1.],\n",
       "       [0., 1.]], dtype=float32)"
      ]
     },
     "execution_count": 53,
     "metadata": {},
     "output_type": "execute_result"
    }
   ],
   "source": [
    "testYTrans = keras.utils.to_categorical(testY)\n",
    "trainYTrans = keras.utils.to_categorical(trainY)\n",
    "trainYTrans.shape\n",
    "trainYTrans"
   ]
  },
  {
   "cell_type": "code",
   "execution_count": 54,
   "metadata": {},
   "outputs": [
    {
     "name": "stdout",
     "output_type": "stream",
     "text": [
      ">#1: 73.077\n",
      ">#2: 50.000\n",
      ">#3: 46.154\n",
      ">#4: 30.769\n",
      ">#5: 50.000\n",
      ">#6: 50.000\n",
      ">#7: 50.000\n",
      ">#8: 50.000\n",
      ">#9: 50.000\n",
      ">#10: 53.846\n",
      "[73.07692170143127, 50.0, 46.15384638309479, 30.769231915473938, 50.0, 50.0, 50.0, 50.0, 50.0, 53.84615659713745]\n",
      "Accuracy: 50.385% (+/-9.646)\n"
     ]
    }
   ],
   "source": [
    "run_experiment(trainX, trainYTrans, testX, testYTrans)"
   ]
  },
  {
   "cell_type": "code",
   "execution_count": 55,
   "metadata": {},
   "outputs": [
    {
     "data": {
      "text/plain": [
       "2"
      ]
     },
     "execution_count": 55,
     "metadata": {},
     "output_type": "execute_result"
    }
   ],
   "source": [
    "trainYTrans.shape[1]"
   ]
  },
  {
   "cell_type": "code",
   "execution_count": 56,
   "metadata": {},
   "outputs": [
    {
     "data": {
      "text/plain": [
       "(113, 127, 123)"
      ]
     },
     "execution_count": 56,
     "metadata": {},
     "output_type": "execute_result"
    }
   ],
   "source": [
    "trainX.shape"
   ]
  },
  {
   "cell_type": "code",
   "execution_count": 57,
   "metadata": {},
   "outputs": [],
   "source": [
    "from keras.callbacks import History \n",
    "history = History()"
   ]
  },
  {
   "cell_type": "code",
   "execution_count": 58,
   "metadata": {},
   "outputs": [
    {
     "data": {
      "text/plain": [
       "array([], dtype=int64)"
      ]
     },
     "execution_count": 58,
     "metadata": {},
     "output_type": "execute_result"
    }
   ],
   "source": [
    "np.isnan(trainX).any()\n",
    "whereNan = np.argwhere(np.isnan(trainX))\n",
    "\n",
    "# trainX.shape\n",
    "unique = np.unique( whereNan[:, 0] )\n",
    "unique\n",
    "# trainX[3][0][87]\n"
   ]
  },
  {
   "cell_type": "code",
   "execution_count": 59,
   "metadata": {},
   "outputs": [
    {
     "data": {
      "text/plain": [
       "array([], dtype=int64)"
      ]
     },
     "execution_count": 59,
     "metadata": {},
     "output_type": "execute_result"
    }
   ],
   "source": [
    "np.isnan(testX).any()\n",
    "whereNan = np.argwhere(np.isnan(testX))\n",
    "\n",
    "whereNan\n",
    "whereNan[:, 0]\n",
    "# trainX.shape\n",
    "# unique = np.unique( whereNan[:, 0] )\n",
    "# unique"
   ]
  },
  {
   "cell_type": "code",
   "execution_count": 134,
   "metadata": {
    "scrolled": false
   },
   "outputs": [],
   "source": [
    "\n",
    "\n",
    "verbose, epochs, batch_size = 0, 50, 4\n",
    "n_timesteps, n_features, n_outputs = trainX.shape[1], trainX.shape[2], 1#trainY.shape[0]\n",
    "model = Sequential()\n",
    "model.add(LSTM(100, input_shape=(n_timesteps,n_features)))\n",
    "model.add(Dropout(0.5))\n",
    "model.add(Dense(100, activation='relu'))\n",
    "model.add(Dense(n_outputs, activation='sigmoid'))\n",
    "model.compile(loss='binary_crossentropy', optimizer='adam', metrics=['accuracy'])\n",
    "# fit network\n",
    "history = model.fit(trainX, trainY, epochs=epochs, batch_size=batch_size, verbose=verbose)"
   ]
  },
  {
   "cell_type": "code",
   "execution_count": 135,
   "metadata": {},
   "outputs": [
    {
     "name": "stdout",
     "output_type": "stream",
     "text": [
      "{'loss': [0.6353797267694943, 0.5244435350425908, 0.4600062905276408, 0.48923283913096444, 0.4767435662081984, 0.4409292389134892, 0.4142280919630019, 0.4274686533408087, 0.43868314969490785, 0.3977677972346056, 0.3946518590215777, 0.36462894326350725, 0.37755814127501897, 0.3890041224047786, 0.3667156732351076, 0.3628451499599414, 0.39208836316085255, 0.3215072528749216, 0.3466982607592325, 0.3657547893216375, 0.32858661342351164, 0.32041259403111505, 0.4196881273852997, 0.42127664869681736, 0.36451381664784227, 0.3634286967457318, 0.32434532547094785, 0.3304127679496515, 0.30650882893165604, 0.2867503985762596, 0.2989356628939754, 0.3128384089738619, 0.2670512142301094, 0.3053105720242516, 0.2816921109180959, 0.32540350086742736, 0.28486281824221865, 0.29169351067088667, 0.2553349018829768, 0.2938276044719043, 0.3305359606012763, 0.31249491308556226, 0.31699187977270027, 0.36444025265518576, 0.25969801337045967, 0.3306220841945195, 0.3467052634767272, 0.27822311265302485, 0.31473861695801625, 0.30296469561480843], 'accuracy': [0.647541, 0.7704918, 0.795082, 0.76229507, 0.7704918, 0.78688526, 0.8114754, 0.78688526, 0.7704918, 0.8196721, 0.795082, 0.8360656, 0.8442623, 0.8278689, 0.8278689, 0.8360656, 0.8278689, 0.8606557, 0.8442623, 0.8114754, 0.852459, 0.852459, 0.78688526, 0.8032787, 0.852459, 0.8032787, 0.8606557, 0.8606557, 0.8606557, 0.8770492, 0.8606557, 0.852459, 0.8852459, 0.8360656, 0.86885244, 0.852459, 0.8770492, 0.8852459, 0.91803277, 0.86885244, 0.8196721, 0.8606557, 0.8606557, 0.8278689, 0.90163934, 0.8442623, 0.8442623, 0.8852459, 0.8852459, 0.8442623]}\n"
     ]
    }
   ],
   "source": [
    "print(history.history)"
   ]
  },
  {
   "cell_type": "code",
   "execution_count": 96,
   "metadata": {},
   "outputs": [
    {
     "data": {
      "text/plain": [
       "[1,\n",
       " 1,\n",
       " 1,\n",
       " 1,\n",
       " 0,\n",
       " 1,\n",
       " 0,\n",
       " 1,\n",
       " 0,\n",
       " 1,\n",
       " 0,\n",
       " 0,\n",
       " 1,\n",
       " 0,\n",
       " 0,\n",
       " 0,\n",
       " 1,\n",
       " 0,\n",
       " 0,\n",
       " 0,\n",
       " 1,\n",
       " 0,\n",
       " 1,\n",
       " 1,\n",
       " 0,\n",
       " 0,\n",
       " 1,\n",
       " 1,\n",
       " 0,\n",
       " 1,\n",
       " 1,\n",
       " 0,\n",
       " 0,\n",
       " 1,\n",
       " 0,\n",
       " 0,\n",
       " 1,\n",
       " 0,\n",
       " 0,\n",
       " 1,\n",
       " 1,\n",
       " 1,\n",
       " 0,\n",
       " 1,\n",
       " 1,\n",
       " 1,\n",
       " 1,\n",
       " 0,\n",
       " 1,\n",
       " 0,\n",
       " 0,\n",
       " 0,\n",
       " 1,\n",
       " 1,\n",
       " 1,\n",
       " 0,\n",
       " 1,\n",
       " 1,\n",
       " 1,\n",
       " 0,\n",
       " 0,\n",
       " 1,\n",
       " 1,\n",
       " 1,\n",
       " 0,\n",
       " 0,\n",
       " 1,\n",
       " 0,\n",
       " 0,\n",
       " 0,\n",
       " 0,\n",
       " 0,\n",
       " 0,\n",
       " 1,\n",
       " 1,\n",
       " 1,\n",
       " 1,\n",
       " 1,\n",
       " 1,\n",
       " 1,\n",
       " 0,\n",
       " 1,\n",
       " 1,\n",
       " 0,\n",
       " 0,\n",
       " 1,\n",
       " 0,\n",
       " 0,\n",
       " 0,\n",
       " 1,\n",
       " 1,\n",
       " 1,\n",
       " 0,\n",
       " 0,\n",
       " 1,\n",
       " 0,\n",
       " 1,\n",
       " 0,\n",
       " 0,\n",
       " 1,\n",
       " 0,\n",
       " 0,\n",
       " 1,\n",
       " 1,\n",
       " 0,\n",
       " 1,\n",
       " 0,\n",
       " 0,\n",
       " 1,\n",
       " 1,\n",
       " 1,\n",
       " 1,\n",
       " 1,\n",
       " 0,\n",
       " 1,\n",
       " 1,\n",
       " 0,\n",
       " 0,\n",
       " 1,\n",
       " 0,\n",
       " 1,\n",
       " 1]"
      ]
     },
     "execution_count": 96,
     "metadata": {},
     "output_type": "execute_result"
    }
   ],
   "source": [
    "trainY"
   ]
  },
  {
   "cell_type": "code",
   "execution_count": 106,
   "metadata": {},
   "outputs": [],
   "source": [
    "y_pred = model.predict(testX)"
   ]
  },
  {
   "cell_type": "code",
   "execution_count": 127,
   "metadata": {},
   "outputs": [
    {
     "data": {
      "text/plain": [
       "0.8292682926829268"
      ]
     },
     "execution_count": 127,
     "metadata": {},
     "output_type": "execute_result"
    }
   ],
   "source": [
    "sum(np.round(y_pred).flatten().astype('int') == testY)/len(testY)\n",
    "# testY"
   ]
  },
  {
   "cell_type": "code",
   "execution_count": 78,
   "metadata": {},
   "outputs": [
    {
     "data": {
      "text/plain": [
       "array([[0., 1.],\n",
       "       [0., 1.],\n",
       "       [0., 1.],\n",
       "       [0., 1.],\n",
       "       [0., 1.],\n",
       "       [0., 1.],\n",
       "       [0., 1.],\n",
       "       [0., 1.],\n",
       "       [0., 1.],\n",
       "       [0., 1.],\n",
       "       [0., 1.],\n",
       "       [0., 1.],\n",
       "       [0., 1.],\n",
       "       [0., 1.],\n",
       "       [0., 1.],\n",
       "       [0., 1.],\n",
       "       [0., 1.],\n",
       "       [0., 1.],\n",
       "       [0., 1.],\n",
       "       [0., 1.],\n",
       "       [0., 1.],\n",
       "       [0., 1.],\n",
       "       [0., 1.],\n",
       "       [0., 1.],\n",
       "       [0., 1.],\n",
       "       [0., 1.]], dtype=float32)"
      ]
     },
     "execution_count": 78,
     "metadata": {},
     "output_type": "execute_result"
    }
   ],
   "source": [
    "testYTrans"
   ]
  },
  {
   "cell_type": "code",
   "execution_count": 136,
   "metadata": {},
   "outputs": [
    {
     "data": {
      "image/png": "[encoded data removed]",
      "text/plain": [
       "<Figure size 432x288 with 1 Axes>"
      ]
     },
     "metadata": {
      "needs_background": "light"
     },
     "output_type": "display_data"
    },
    {
     "data": {
      "image/png": "[encoded data removed]",
      "text/plain": [
       "<Figure size 432x288 with 1 Axes>"
      ]
     },
     "metadata": {
      "needs_background": "light"
     },
     "output_type": "display_data"
    }
   ],
   "source": [
    "import matplotlib.pyplot as plt\n",
    "\n",
    "# summarize history for accuracy\n",
    "plt.plot(history.history['accuracy'])\n",
    "# plt.plot(history.history['val_accuracy'])\n",
    "plt.title('model accuracy')\n",
    "plt.ylabel('accuracy')\n",
    "plt.xlabel('epoch')\n",
    "plt.legend(['train', 'test'], loc='upper left')\n",
    "plt.show()\n",
    "# summarize history for loss\n",
    "plt.plot(history.history['loss'])\n",
    "# plt.plot(history.history['val_loss'])\n",
    "plt.title('model loss')\n",
    "plt.ylabel('loss')\n",
    "axes = plt.gca()\n",
    "axes.set_ylim([0,1])\n",
    "plt.xlabel('epoch')\n",
    "plt.legend(['train', 'test'], loc='upper left')\n",
    "plt.show()"
   ]
  },
  {
   "cell_type": "code",
   "execution_count": null,
   "metadata": {},
   "outputs": [],
   "source": [
    "model2= Sequential()\n",
    "model2.add(LSTM(100, input_shape=(n_timesteps,n_features)))\n",
    "model2.add(Dropout(0.5))\n",
    "model2.add(Dense(100, activation='relu'))\n",
    "model2.add(Dense(n_outputs, activation='sigmoid'))\n",
    "model2.compile(loss='binary_crossentropy', optimizer='adam', metrics=['accuracy'])"
   ]
  }
 ],
 "metadata": {
  "kernelspec": {
   "display_name": "har-env",
   "language": "python",
   "name": "har-env"
  },
  "language_info": {
   "codemirror_mode": {
    "name": "ipython",
    "version": 3
   },
   "file_extension": ".py",
   "mimetype": "text/x-python",
   "name": "python",
   "nbconvert_exporter": "python",
   "pygments_lexer": "ipython3",
   "version": "3.7.4"
  }
 },
 "nbformat": 4,
 "nbformat_minor": 2
}
